{
 "cells": [
  {
   "cell_type": "code",
   "execution_count": null,
   "id": "d5986e76",
   "metadata": {},
   "outputs": [],
   "source": [
    "import codecademylib\n",
    "import pandas as pd\n",
    "\n",
    "inventory = pd.read_csv(\"inventory.csv\")\n",
    "print(inventory.head(10))\n",
    "\n",
    "staten_island = inventory.iloc[:10]\n",
    "print(staten_island)\n",
    "\n",
    "product_request = staten_island.product_description\n",
    "print(product_request)\n",
    "\n",
    "seed_request = inventory[(inventory.location == \"Brooklyn\") & (inventory.product_type == \"seeds\")]\n",
    "print(seed_request)\n",
    "\n",
    "inventory[\"in_stock\"] = inventory.quantity.apply(lambda x: True if x > 0 else False)\n",
    "print(inventory.head())\n",
    "\n",
    "inventory[\"total_value\"] = inventory.price * inventory.quantity\n",
    "print(inventory.head())\n",
    "\n",
    "combine_lambda = lambda row: \\\n",
    "    '{} - {}'.format(row.product_type,\n",
    "                     row.product_description)\n",
    "\n",
    "inventory[\"full_description\"] = inventory.apply(combine_lambda, axis=1)\n",
    "print(inventory.head())"
   ]
  }
 ],
 "metadata": {
  "kernelspec": {
   "display_name": "Python 3",
   "language": "python",
   "name": "python3"
  },
  "language_info": {
   "codemirror_mode": {
    "name": "ipython",
    "version": 3
   },
   "file_extension": ".py",
   "mimetype": "text/x-python",
   "name": "python",
   "nbconvert_exporter": "python",
   "pygments_lexer": "ipython3",
   "version": "3.8.8"
  }
 },
 "nbformat": 4,
 "nbformat_minor": 5
}
